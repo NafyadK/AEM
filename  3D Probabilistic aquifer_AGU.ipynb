{
 "cells": [
  {
   "cell_type": "markdown",
   "metadata": {},
   "source": [
    "##  Comparision of  Machine learning-based 3D Probabilistic Hydrofacies Models for Improved Aquifer Paramaterizations \n",
    "### Nafyad Kawo (2022/12/10)\n",
    "\n",
    "### Importing the libraries\n"
   ]
  },
  {
   "cell_type": "code",
   "execution_count": 1,
   "metadata": {},
   "outputs": [],
   "source": [
    "import numpy as np\n",
    "import matplotlib.pyplot as plt\n",
    "import pandas as pd"
   ]
  },
  {
   "cell_type": "markdown",
   "metadata": {},
   "source": [
    "### Importing the dataset and Preprocessing"
   ]
  },
  {
   "cell_type": "code",
   "execution_count": 2,
   "metadata": {},
   "outputs": [
    {
     "name": "stdout",
     "output_type": "stream",
     "text": [
      "   Easting     Northing  Elevation     Roh  Litho_code\n",
      "0   727400  195934.5238   381.9397   9.696           1\n",
      "1   727600  195934.5238   381.9397   9.842           1\n",
      "2   727400  196135.7143   381.9397   9.488           1\n",
      "3   727600  196135.7143   381.9397  10.043           1\n",
      "4   729400  199757.1429   381.9397  12.480           0\n",
      "[1 0]\n"
     ]
    }
   ],
   "source": [
    "dataset = pd.read_csv('200Cat13_AEMfinal.csv')\n",
    "SCI_smoothAEM = pd.read_csv('SCI_Smooth.csv',sep=';')\n",
    "print(dataset.head())\n",
    "print(dataset['Litho_code'].unique())"
   ]
  },
  {
   "cell_type": "code",
   "execution_count": 3,
   "metadata": {},
   "outputs": [
    {
     "data": {
      "text/plain": [
       "(15380, 5)"
      ]
     },
     "execution_count": 3,
     "metadata": {},
     "output_type": "execute_result"
    }
   ],
   "source": [
    "dataset.shape"
   ]
  },
  {
   "cell_type": "code",
   "execution_count": 4,
   "metadata": {},
   "outputs": [],
   "source": [
    "dataset1= dataset.rename(columns={\"Roh\": \"AEM_resistivity\", \"Litho_code\": \"litho_groupcode\"})"
   ]
  },
  {
   "cell_type": "code",
   "execution_count": 5,
   "metadata": {},
   "outputs": [
    {
     "data": {
      "text/html": [
       "<div>\n",
       "<style scoped>\n",
       "    .dataframe tbody tr th:only-of-type {\n",
       "        vertical-align: middle;\n",
       "    }\n",
       "\n",
       "    .dataframe tbody tr th {\n",
       "        vertical-align: top;\n",
       "    }\n",
       "\n",
       "    .dataframe thead th {\n",
       "        text-align: right;\n",
       "    }\n",
       "</style>\n",
       "<table border=\"1\" class=\"dataframe\">\n",
       "  <thead>\n",
       "    <tr style=\"text-align: right;\">\n",
       "      <th></th>\n",
       "      <th>Easting</th>\n",
       "      <th>Northing</th>\n",
       "      <th>Elevation</th>\n",
       "      <th>AEM_resistivity</th>\n",
       "      <th>litho_groupcode</th>\n",
       "    </tr>\n",
       "  </thead>\n",
       "  <tbody>\n",
       "    <tr>\n",
       "      <th>0</th>\n",
       "      <td>727400</td>\n",
       "      <td>195934.5238</td>\n",
       "      <td>381.939700</td>\n",
       "      <td>9.696000</td>\n",
       "      <td>1</td>\n",
       "    </tr>\n",
       "    <tr>\n",
       "      <th>1</th>\n",
       "      <td>727600</td>\n",
       "      <td>195934.5238</td>\n",
       "      <td>381.939700</td>\n",
       "      <td>9.842000</td>\n",
       "      <td>1</td>\n",
       "    </tr>\n",
       "    <tr>\n",
       "      <th>2</th>\n",
       "      <td>727400</td>\n",
       "      <td>196135.7143</td>\n",
       "      <td>381.939700</td>\n",
       "      <td>9.488000</td>\n",
       "      <td>1</td>\n",
       "    </tr>\n",
       "    <tr>\n",
       "      <th>3</th>\n",
       "      <td>727600</td>\n",
       "      <td>196135.7143</td>\n",
       "      <td>381.939700</td>\n",
       "      <td>10.043000</td>\n",
       "      <td>1</td>\n",
       "    </tr>\n",
       "    <tr>\n",
       "      <th>4</th>\n",
       "      <td>729400</td>\n",
       "      <td>199757.1429</td>\n",
       "      <td>381.939700</td>\n",
       "      <td>12.480000</td>\n",
       "      <td>0</td>\n",
       "    </tr>\n",
       "    <tr>\n",
       "      <th>...</th>\n",
       "      <td>...</td>\n",
       "      <td>...</td>\n",
       "      <td>...</td>\n",
       "      <td>...</td>\n",
       "      <td>...</td>\n",
       "    </tr>\n",
       "    <tr>\n",
       "      <th>15375</th>\n",
       "      <td>701200</td>\n",
       "      <td>202171.4286</td>\n",
       "      <td>526.586525</td>\n",
       "      <td>12.392838</td>\n",
       "      <td>0</td>\n",
       "    </tr>\n",
       "    <tr>\n",
       "      <th>15376</th>\n",
       "      <td>699800</td>\n",
       "      <td>203579.7619</td>\n",
       "      <td>526.586525</td>\n",
       "      <td>12.493603</td>\n",
       "      <td>0</td>\n",
       "    </tr>\n",
       "    <tr>\n",
       "      <th>15377</th>\n",
       "      <td>699800</td>\n",
       "      <td>203780.9524</td>\n",
       "      <td>526.586525</td>\n",
       "      <td>12.006178</td>\n",
       "      <td>0</td>\n",
       "    </tr>\n",
       "    <tr>\n",
       "      <th>15378</th>\n",
       "      <td>699800</td>\n",
       "      <td>203579.7619</td>\n",
       "      <td>529.600000</td>\n",
       "      <td>12.688493</td>\n",
       "      <td>0</td>\n",
       "    </tr>\n",
       "    <tr>\n",
       "      <th>15379</th>\n",
       "      <td>699800</td>\n",
       "      <td>203780.9524</td>\n",
       "      <td>529.600000</td>\n",
       "      <td>12.332623</td>\n",
       "      <td>0</td>\n",
       "    </tr>\n",
       "  </tbody>\n",
       "</table>\n",
       "<p>15380 rows × 5 columns</p>\n",
       "</div>"
      ],
      "text/plain": [
       "       Easting     Northing   Elevation  AEM_resistivity  litho_groupcode\n",
       "0       727400  195934.5238  381.939700         9.696000                1\n",
       "1       727600  195934.5238  381.939700         9.842000                1\n",
       "2       727400  196135.7143  381.939700         9.488000                1\n",
       "3       727600  196135.7143  381.939700        10.043000                1\n",
       "4       729400  199757.1429  381.939700        12.480000                0\n",
       "...        ...          ...         ...              ...              ...\n",
       "15375   701200  202171.4286  526.586525        12.392838                0\n",
       "15376   699800  203579.7619  526.586525        12.493603                0\n",
       "15377   699800  203780.9524  526.586525        12.006178                0\n",
       "15378   699800  203579.7619  529.600000        12.688493                0\n",
       "15379   699800  203780.9524  529.600000        12.332623                0\n",
       "\n",
       "[15380 rows x 5 columns]"
      ]
     },
     "execution_count": 5,
     "metadata": {},
     "output_type": "execute_result"
    }
   ],
   "source": [
    "dataset1"
   ]
  },
  {
   "cell_type": "code",
   "execution_count": 6,
   "metadata": {},
   "outputs": [
    {
     "data": {
      "text/plain": [
       "Index(['Easting', 'Northing', 'Elevation', 'AEM_resistivity',\n",
       "       'litho_groupcode'],\n",
       "      dtype='object')"
      ]
     },
     "execution_count": 6,
     "metadata": {},
     "output_type": "execute_result"
    }
   ],
   "source": [
    "dataset1.columns"
   ]
  },
  {
   "cell_type": "code",
   "execution_count": 7,
   "metadata": {},
   "outputs": [
    {
     "name": "stdout",
     "output_type": "stream",
     "text": [
      "<class 'pandas.core.frame.DataFrame'>\n",
      "RangeIndex: 15380 entries, 0 to 15379\n",
      "Data columns (total 5 columns):\n",
      " #   Column           Non-Null Count  Dtype  \n",
      "---  ------           --------------  -----  \n",
      " 0   Easting          15380 non-null  int64  \n",
      " 1   Northing         15380 non-null  float64\n",
      " 2   Elevation        15380 non-null  float64\n",
      " 3   AEM_resistivity  15380 non-null  float64\n",
      " 4   litho_groupcode  15380 non-null  int64  \n",
      "dtypes: float64(3), int64(2)\n",
      "memory usage: 600.9 KB\n"
     ]
    }
   ],
   "source": [
    "dataset1.info()"
   ]
  },
  {
   "cell_type": "code",
   "execution_count": 9,
   "metadata": {},
   "outputs": [
    {
     "data": {
      "text/html": [
       "<div>\n",
       "<style scoped>\n",
       "    .dataframe tbody tr th:only-of-type {\n",
       "        vertical-align: middle;\n",
       "    }\n",
       "\n",
       "    .dataframe tbody tr th {\n",
       "        vertical-align: top;\n",
       "    }\n",
       "\n",
       "    .dataframe thead th {\n",
       "        text-align: right;\n",
       "    }\n",
       "</style>\n",
       "<table border=\"1\" class=\"dataframe\">\n",
       "  <thead>\n",
       "    <tr style=\"text-align: right;\">\n",
       "      <th></th>\n",
       "      <th>count</th>\n",
       "      <th>mean</th>\n",
       "      <th>std</th>\n",
       "      <th>min</th>\n",
       "      <th>25%</th>\n",
       "      <th>50%</th>\n",
       "      <th>75%</th>\n",
       "      <th>max</th>\n",
       "    </tr>\n",
       "  </thead>\n",
       "  <tbody>\n",
       "    <tr>\n",
       "      <th>X</th>\n",
       "      <td>1626627.0</td>\n",
       "      <td>719555.478668</td>\n",
       "      <td>9978.117443</td>\n",
       "      <td>697400.000000</td>\n",
       "      <td>711800.000000</td>\n",
       "      <td>720000.000000</td>\n",
       "      <td>728000.000000</td>\n",
       "      <td>736400.000000</td>\n",
       "    </tr>\n",
       "    <tr>\n",
       "      <th>Y</th>\n",
       "      <td>1626627.0</td>\n",
       "      <td>199160.972656</td>\n",
       "      <td>4547.355005</td>\n",
       "      <td>190100.000000</td>\n",
       "      <td>195129.761905</td>\n",
       "      <td>199757.142857</td>\n",
       "      <td>202976.190476</td>\n",
       "      <td>207000.000000</td>\n",
       "    </tr>\n",
       "    <tr>\n",
       "      <th>Z</th>\n",
       "      <td>1626627.0</td>\n",
       "      <td>327.753656</td>\n",
       "      <td>110.841365</td>\n",
       "      <td>104.700000</td>\n",
       "      <td>234.279433</td>\n",
       "      <td>327.697163</td>\n",
       "      <td>424.128369</td>\n",
       "      <td>529.600000</td>\n",
       "    </tr>\n",
       "    <tr>\n",
       "      <th>Value</th>\n",
       "      <td>1626627.0</td>\n",
       "      <td>12.510549</td>\n",
       "      <td>4.992818</td>\n",
       "      <td>2.905932</td>\n",
       "      <td>9.791779</td>\n",
       "      <td>11.534251</td>\n",
       "      <td>13.717045</td>\n",
       "      <td>79.029228</td>\n",
       "    </tr>\n",
       "  </tbody>\n",
       "</table>\n",
       "</div>"
      ],
      "text/plain": [
       "           count           mean          std            min            25%  \\\n",
       "X      1626627.0  719555.478668  9978.117443  697400.000000  711800.000000   \n",
       "Y      1626627.0  199160.972656  4547.355005  190100.000000  195129.761905   \n",
       "Z      1626627.0     327.753656   110.841365     104.700000     234.279433   \n",
       "Value  1626627.0      12.510549     4.992818       2.905932       9.791779   \n",
       "\n",
       "                 50%            75%            max  \n",
       "X      720000.000000  728000.000000  736400.000000  \n",
       "Y      199757.142857  202976.190476  207000.000000  \n",
       "Z         327.697163     424.128369     529.600000  \n",
       "Value      11.534251      13.717045      79.029228  "
      ]
     },
     "execution_count": 9,
     "metadata": {},
     "output_type": "execute_result"
    }
   ],
   "source": [
    "SCI_smoothAEM.describe().T"
   ]
  },
  {
   "cell_type": "code",
   "execution_count": 11,
   "metadata": {},
   "outputs": [
    {
     "data": {
      "text/html": [
       "<div>\n",
       "<style scoped>\n",
       "    .dataframe tbody tr th:only-of-type {\n",
       "        vertical-align: middle;\n",
       "    }\n",
       "\n",
       "    .dataframe tbody tr th {\n",
       "        vertical-align: top;\n",
       "    }\n",
       "\n",
       "    .dataframe thead th {\n",
       "        text-align: right;\n",
       "    }\n",
       "</style>\n",
       "<table border=\"1\" class=\"dataframe\">\n",
       "  <thead>\n",
       "    <tr style=\"text-align: right;\">\n",
       "      <th></th>\n",
       "      <th>count</th>\n",
       "      <th>mean</th>\n",
       "      <th>std</th>\n",
       "      <th>min</th>\n",
       "      <th>25%</th>\n",
       "      <th>50%</th>\n",
       "      <th>75%</th>\n",
       "      <th>max</th>\n",
       "    </tr>\n",
       "  </thead>\n",
       "  <tbody>\n",
       "    <tr>\n",
       "      <th>Easting</th>\n",
       "      <td>15380.0</td>\n",
       "      <td>719932.912874</td>\n",
       "      <td>10006.707483</td>\n",
       "      <td>698600.000000</td>\n",
       "      <td>712200.00000</td>\n",
       "      <td>721000.0000</td>\n",
       "      <td>729000.00000</td>\n",
       "      <td>735600.0000</td>\n",
       "    </tr>\n",
       "    <tr>\n",
       "      <th>Northing</th>\n",
       "      <td>15380.0</td>\n",
       "      <td>199313.765095</td>\n",
       "      <td>4291.340930</td>\n",
       "      <td>191105.952400</td>\n",
       "      <td>195733.33330</td>\n",
       "      <td>200360.7143</td>\n",
       "      <td>202976.19050</td>\n",
       "      <td>206195.2381</td>\n",
       "    </tr>\n",
       "    <tr>\n",
       "      <th>Elevation</th>\n",
       "      <td>15380.0</td>\n",
       "      <td>455.186161</td>\n",
       "      <td>37.858398</td>\n",
       "      <td>177.023404</td>\n",
       "      <td>439.19570</td>\n",
       "      <td>457.2766</td>\n",
       "      <td>478.37090</td>\n",
       "      <td>529.6000</td>\n",
       "    </tr>\n",
       "    <tr>\n",
       "      <th>AEM_resistivity</th>\n",
       "      <td>15380.0</td>\n",
       "      <td>18.598385</td>\n",
       "      <td>7.326967</td>\n",
       "      <td>5.417000</td>\n",
       "      <td>13.62675</td>\n",
       "      <td>16.8130</td>\n",
       "      <td>21.54925</td>\n",
       "      <td>60.5160</td>\n",
       "    </tr>\n",
       "    <tr>\n",
       "      <th>litho_groupcode</th>\n",
       "      <td>15380.0</td>\n",
       "      <td>0.340897</td>\n",
       "      <td>0.474026</td>\n",
       "      <td>0.000000</td>\n",
       "      <td>0.00000</td>\n",
       "      <td>0.0000</td>\n",
       "      <td>1.00000</td>\n",
       "      <td>1.0000</td>\n",
       "    </tr>\n",
       "  </tbody>\n",
       "</table>\n",
       "</div>"
      ],
      "text/plain": [
       "                   count           mean           std            min  \\\n",
       "Easting          15380.0  719932.912874  10006.707483  698600.000000   \n",
       "Northing         15380.0  199313.765095   4291.340930  191105.952400   \n",
       "Elevation        15380.0     455.186161     37.858398     177.023404   \n",
       "AEM_resistivity  15380.0      18.598385      7.326967       5.417000   \n",
       "litho_groupcode  15380.0       0.340897      0.474026       0.000000   \n",
       "\n",
       "                          25%          50%           75%          max  \n",
       "Easting          712200.00000  721000.0000  729000.00000  735600.0000  \n",
       "Northing         195733.33330  200360.7143  202976.19050  206195.2381  \n",
       "Elevation           439.19570     457.2766     478.37090     529.6000  \n",
       "AEM_resistivity      13.62675      16.8130      21.54925      60.5160  \n",
       "litho_groupcode       0.00000       0.0000       1.00000       1.0000  "
      ]
     },
     "execution_count": 11,
     "metadata": {},
     "output_type": "execute_result"
    }
   ],
   "source": [
    "dataset1.describe().T"
   ]
  },
  {
   "cell_type": "code",
   "execution_count": 10,
   "metadata": {},
   "outputs": [
    {
     "data": {
      "text/plain": [
       "count    15380.000000\n",
       "mean        18.598385\n",
       "std          7.326967\n",
       "min          5.417000\n",
       "25%         13.626750\n",
       "50%         16.813000\n",
       "75%         21.549250\n",
       "max         60.516000\n",
       "Name: AEM_resistivity, dtype: float64"
      ]
     },
     "execution_count": 10,
     "metadata": {},
     "output_type": "execute_result"
    }
   ],
   "source": [
    "dataset1['AEM_resistivity'].describe().T"
   ]
  },
  {
   "cell_type": "code",
   "execution_count": 12,
   "metadata": {},
   "outputs": [
    {
     "data": {
      "image/png": "[encoded data removed]",
      "text/plain": [
       "<Figure size 432x288 with 1 Axes>"
      ]
     },
     "metadata": {
      "needs_background": "light"
     },
     "output_type": "display_data"
    }
   ],
   "source": [
    "# Check the distribution of the AEM Resistivity column with a histogram\n",
    "dataset1.AEM_resistivity.plot.hist();\n",
    " "
   ]
  },
  {
   "cell_type": "markdown",
   "metadata": {},
   "source": [
    "### Spliting data into features and target"
   ]
  },
  {
   "cell_type": "code",
   "execution_count": 25,
   "metadata": {},
   "outputs": [],
   "source": [
    "X = dataset1.iloc[:, :-1].values\n",
    "y = dataset1.iloc[:, -1].values\n"
   ]
  },
  {
   "cell_type": "code",
   "execution_count": 26,
   "metadata": {},
   "outputs": [],
   "source": [
    "ytraget=dataset1.iloc[:, -1]\n"
   ]
  },
  {
   "cell_type": "code",
   "execution_count": 27,
   "metadata": {},
   "outputs": [
    {
     "data": {
      "text/plain": [
       "0        1\n",
       "1        1\n",
       "2        1\n",
       "3        1\n",
       "4        0\n",
       "        ..\n",
       "15375    0\n",
       "15376    0\n",
       "15377    0\n",
       "15378    0\n",
       "15379    0\n",
       "Name: litho_groupcode, Length: 15380, dtype: int64"
      ]
     },
     "execution_count": 27,
     "metadata": {},
     "output_type": "execute_result"
    }
   ],
   "source": [
    "ytraget"
   ]
  },
  {
   "cell_type": "markdown",
   "metadata": {},
   "source": [
    "### Splitting the dataset into the Training set and Test set \n"
   ]
  },
  {
   "cell_type": "code",
   "execution_count": 28,
   "metadata": {},
   "outputs": [
    {
     "name": "stdout",
     "output_type": "stream",
     "text": [
      "(12304, 4)\n",
      "(3076, 4)\n",
      "(12304,)\n",
      "(3076,)\n"
     ]
    }
   ],
   "source": [
    "#The stratify parameter  preserves the proportion of  data (how data are distributed in the target column) - and depicts that same proportion of distribution in the train_test_split (https://stackoverflow.com/questions/34842405/parameter-stratify-from-method-train-test-split-scikit-learn).\n",
    "from sklearn.model_selection import train_test_split\n",
    "X_train, X_test, y_train, y_test = train_test_split(X, y, test_size = 0.20,shuffle=True, random_state = 0,stratify=y)\n",
    "print(X_train.shape)\n",
    "print(X_test.shape)\n",
    "print(y_train.shape)\n",
    "print(y_test.shape)\n"
   ]
  },
  {
   "cell_type": "markdown",
   "metadata": {},
   "source": [
    "### Feature Scaling"
   ]
  },
  {
   "cell_type": "code",
   "execution_count": 29,
   "metadata": {},
   "outputs": [],
   "source": [
    "from sklearn.preprocessing import StandardScaler\n",
    "sc = StandardScaler()\n",
    "X_train = sc.fit_transform(X_train)\n",
    "X_test = sc.transform(X_test)\n"
   ]
  },
  {
   "cell_type": "code",
   "execution_count": 34,
   "metadata": {},
   "outputs": [],
   "source": [
    "from sklearn.ensemble import RandomForestClassifier\n",
    "from xgboost import XGBClassifier\n",
    "from sklearn.ensemble import StackingClassifier\n",
    "from sklearn.linear_model import LogisticRegression\n",
    "from sklearn.ensemble import GradientBoostingClassifier\n",
    "from sklearn.neural_network import MLPClassifier\n",
    "\n"
   ]
  },
  {
   "cell_type": "code",
   "execution_count": 35,
   "metadata": {},
   "outputs": [],
   "source": [
    "## RandomizedSearchCV to tune HP\n",
    "from sklearn.model_selection import RandomizedSearchCV"
   ]
  },
  {
   "cell_type": "code",
   "execution_count": 36,
   "metadata": {},
   "outputs": [],
   "source": [
    "## Hyperparameters to tune MLP(https://scikit-learn.org/stable/modules/generated/sklearn.neural_network.MLPClassifier.html)\n",
    "param_gridMLP = {\n",
    "    'hidden_layer_sizes': [(10,25),(40,50,5),(20,100,10),(30,20),(60,40,10),(64,100,20),(20,10,10),(50,30,20),(160,100,40),(200,100,60,40,20),(160,80,30,40,10), (160,100,60,40,20),(100,80,50,20)],\n",
    "    'max_iter': [50, 100, 200, 350, 400, 560, 700, 900, 1200,1600, 2000,3000,6000],\n",
    "    'activation': ['tanh', 'identity', 'logistic', 'tanh', 'relu'],\n",
    "    'solver': ['sgd', 'adam'],\n",
    "    'alpha': [0.0001,0.001, 0.05, 0.1],\n",
    "    'learning_rate_init': [0.0001,0.0005,0.001, 0.005,0.01],\n",
    "    'learning_rate': ['constant','adaptive']\n",
    "}\n",
    "\n"
   ]
  },
  {
   "cell_type": "code",
   "execution_count": 37,
   "metadata": {},
   "outputs": [],
   "source": [
    "mlp1=MLPClassifier()"
   ]
  },
  {
   "cell_type": "code",
   "execution_count": 38,
   "metadata": {},
   "outputs": [
    {
     "name": "stdout",
     "output_type": "stream",
     "text": [
      "Fitting 10 folds for each of 10 candidates, totalling 100 fits\n",
      "The MLG best hyper parameters are:\n",
      " {'solver': 'adam', 'max_iter': 900, 'learning_rate_init': 0.01, 'learning_rate': 'adaptive', 'hidden_layer_sizes': (160, 100, 40), 'alpha': 0.05, 'activation': 'tanh'}\n"
     ]
    }
   ],
   "source": [
    "# tune MLPclassifier\n",
    "gridMLP = RandomizedSearchCV(mlp1, param_distributions=param_gridMLP, n_jobs= -1,verbose = 1, cv=10, scoring = 'average_precision')\n",
    "gridMLP.fit(X_train,y_train)\n",
    "YpredMLP =gridMLP.predict(X_test)\n",
    "YpredMLP_pro=gridMLP.predict_proba(X_test)\n",
    "#Printing the best hyperparameters\n",
    "print('The MLG best hyper parameters are:\\n',gridMLP.best_params_)"
   ]
  },
  {
   "cell_type": "code",
   "execution_count": 127,
   "metadata": {},
   "outputs": [],
   "source": [
    "# Import model Evaluations\n",
    "from sklearn.model_selection import train_test_split, cross_val_score\n",
    "from sklearn.metrics import accuracy_score,confusion_matrix,classification_report,roc_auc_score, roc_curve\n",
    "from sklearn.metrics import confusion_matrix, classification_report\n",
    "from sklearn.metrics import precision_score, recall_score, f1_score\n",
    "from sklearn.metrics import plot_roc_curve\n",
    "from sklearn.metrics import accuracy_score\n",
    "from sklearn.metrics import matthews_corrcoef\n",
    "from sklearn.metrics import ConfusionMatrixDisplay"
   ]
  },
  {
   "cell_type": "code",
   "execution_count": 128,
   "metadata": {},
   "outputs": [],
   "source": [
    "### building MLP model with best parameters\n",
    "MLPCa = MLPClassifier(hidden_layer_sizes=(160,100,40),max_iter = 2000,activation = 'tanh',solver = 'adam',alpha= 0.0001,learning_rate= 'constant',random_state = 0)"
   ]
  },
  {
   "cell_type": "code",
   "execution_count": 129,
   "metadata": {},
   "outputs": [],
   "source": [
    "MLPCa.fit(X_train,y_train)\n",
    "YpredMLPCa =MLPCa.predict(X_test)\n",
    "YpredMLPCa_pro=MLPCa.predict_proba(X_test)"
   ]
  },
  {
   "cell_type": "code",
   "execution_count": 131,
   "metadata": {},
   "outputs": [
    {
     "name": "stdout",
     "output_type": "stream",
     "text": [
      "The XGBoost best hyper parameters are:\n",
      " {'subsample': 0.8, 'n_estimators': 800, 'min_child_weight': 8, 'max_depth': 8, 'learning_rate': 0.3, 'gamma': 0.4, 'colsample_bytree': 0.6, 'colsample_bylevel': 0.5}\n"
     ]
    }
   ],
   "source": [
    "#grid search\n",
    "XGB = XGBClassifier(random_state=0)\n",
    "n_estimators = [100, 200, 300, 400, 500,600,700,800,900,1000,1500,2000,3000]\n",
    "max_depth = [2,3,4,6,7,8,10,15,20,35]\n",
    "learning_rate = [0.0001, 0.001, 0.01, 0.1,0.3,0.5]\n",
    "min_child_weight=[6,8,10,12]\n",
    "gamma=[i/10.0 for i in range(0,5)]\n",
    "subsample= [0.5, 0.6, 0.7, 0.8, 0.9]\n",
    "colsample_bytree= [0.4, 0.5, 0.6, 0.7, 0.8, 0.9]\n",
    "colsample_bylevel= [0.4, 0.5, 0.6, 0.7, 0.8, 0.9]\n",
    "param_grid = dict(learning_rate=learning_rate, n_estimators=n_estimators,max_depth=max_depth,min_child_weight=min_child_weight,subsample=subsample,colsample_bytree=colsample_bytree,colsample_bylevel=colsample_bylevel,gamma=gamma)\n",
    "grid_XGB = RandomizedSearchCV(XGB, param_distributions= param_grid,n_jobs=-1, cv=10,scoring= 'average_precision')\n",
    "XGB_grid = grid_XGB.fit(X_train, y_train)\n",
    "#Printing the best hyperparameters\n",
    "print('The XGBoost best hyper parameters are:\\n',XGB_grid.best_params_)"
   ]
  },
  {
   "cell_type": "code",
   "execution_count": 132,
   "metadata": {},
   "outputs": [],
   "source": [
    "### Building XGBoost with best Prameters\n",
    "XGB = XGBClassifier(subsample= 0.5, n_estimators=900, min_child_weight=10, max_depth=10, learning_rate= 0.3, gamma=0.0, colsample_bytree=0.9, colsample_bylevel= 0.4)"
   ]
  },
  {
   "cell_type": "code",
   "execution_count": 133,
   "metadata": {},
   "outputs": [],
   "source": [
    "YpredXGB =grid_XGB.predict(X_test)\n",
    "YpredXGB_pro=grid_XGB.predict_proba(X_test)"
   ]
  },
  {
   "cell_type": "code",
   "execution_count": 134,
   "metadata": {},
   "outputs": [],
   "source": [
    "XGB_hy =XGBClassifier(subsample= 0.5, n_estimators=900, min_child_weight=10, max_depth=10, learning_rate= 0.3, gamma=0.0, colsample_bytree=0.9, colsample_bylevel= 0.4)"
   ]
  },
  {
   "cell_type": "code",
   "execution_count": 135,
   "metadata": {},
   "outputs": [],
   "source": [
    "XGB_grid1 = XGB_hy.fit(X_train, y_train)"
   ]
  },
  {
   "cell_type": "code",
   "execution_count": 136,
   "metadata": {},
   "outputs": [],
   "source": [
    "## #Setting values for the Gradientboosting Classifier parameters (https://scikit-learn.org/stable/modules/generated/sklearn.ensemble.GradientBoostingClassifier.html)\n",
    "parametersGBC = {\n",
    "    \"n_estimators\":np.arange(10, 1000, 20),\n",
    "    \"max_depth\":np.arange(6, 100, 10),\n",
    "    \"learning_rate\":[0.0001,0.001,0.01,0.1,1],\n",
    "    \"min_samples_split\": np.arange(2, 10, 2),\n",
    "    \"min_samples_leaf\": np.arange(2, 10, 2)\n",
    "                                      }"
   ]
  },
  {
   "cell_type": "code",
   "execution_count": 137,
   "metadata": {},
   "outputs": [
    {
     "name": "stdout",
     "output_type": "stream",
     "text": [
      "The GBC best hyper parameters are:\n",
      " {'n_estimators': 710, 'min_samples_split': 6, 'min_samples_leaf': 2, 'max_depth': 86, 'learning_rate': 0.1}\n"
     ]
    }
   ],
   "source": [
    "### tune GBC\n",
    "Grid_GBC = RandomizedSearchCV(GradientBoostingClassifier(), param_distributions=parametersGBC,cv=10, scoring= 'average_precision', n_jobs=-1)\n",
    "Grid_GBC.fit(X_train, y_train)\n",
    "YpredGBC =Grid_GBC.predict(X_test)\n",
    "YpredGBC_pro=Grid_GBC.predict_proba(X_test)\n",
    "#Printing the best hyperparameters\n",
    "print('The GBC best hyper parameters are:\\n',Grid_GBC.best_params_)\n"
   ]
  },
  {
   "cell_type": "code",
   "execution_count": 292,
   "metadata": {},
   "outputs": [
    {
     "data": {
      "text/plain": [
       "GradientBoostingClassifier(max_depth=86, min_samples_leaf=2,\n",
       "                           min_samples_split=6, n_estimators=710)"
      ]
     },
     "execution_count": 292,
     "metadata": {},
     "output_type": "execute_result"
    }
   ],
   "source": [
    "### Building GBC with best parameters\n",
    "GBC=GradientBoostingClassifier(n_estimators=710, min_samples_split=6, min_samples_leaf= 2, max_depth=86, learning_rate=0.1)\n",
    "GBC.fit(X_train, y_train)"
   ]
  },
  {
   "cell_type": "code",
   "execution_count": 139,
   "metadata": {},
   "outputs": [],
   "source": [
    "#Setting values for the  RF parameters \n",
    "ParameterRF ={  \"n_estimators \": np.arange(100, 1000, 10),\n",
    "                 \"max_depth\":np.arange(5, 100, 10),\n",
    "                 \"min_samples_split\": np.arange (2, 20, 2),\n",
    "                 \"min_samples_leaf\":np.arange(2, 10, 1),\n",
    "                 \"criterion\":['gini','entropy'],\n",
    "                 \"max_features\" :['auto', 'sqrt']\n",
    "}\n"
   ]
  },
  {
   "cell_type": "code",
   "execution_count": 140,
   "metadata": {},
   "outputs": [],
   "source": [
    "RandomForestClassifier1=RandomForestClassifier()"
   ]
  },
  {
   "cell_type": "code",
   "execution_count": 141,
   "metadata": {},
   "outputs": [
    {
     "name": "stdout",
     "output_type": "stream",
     "text": [
      "Fitting 10 folds for each of 10 candidates, totalling 100 fits\n",
      "The RF best hyper parameters are:\n",
      " {'n_estimators': 310, 'min_samples_split': 2, 'min_samples_leaf': 2, 'max_features': 'sqrt', 'max_depth': 65, 'criterion': 'gini'}\n"
     ]
    }
   ],
   "source": [
    "#Setting values for the parameters\n",
    "n_estimators = np.arange(100, 1000, 10)\n",
    "max_depth =np.arange(5, 100, 20)\n",
    "min_samples_split = np.arange (2, 20, 2)\n",
    "min_samples_leaf = np.arange(2, 20, 2)\n",
    "criterion =['gini','entropy']\n",
    "max_features = ['auto', 'sqrt']\n",
    "#Creating a dictionary for the hyper parameters\n",
    "hyper_rf = dict(n_estimators = n_estimators, max_depth = max_depth, \n",
    "              min_samples_split = min_samples_split, min_samples_leaf = min_samples_leaf,criterion = criterion,max_features = max_features)\n",
    "\n",
    "#Applying RandomSearchCV to get the best value for hyperparameters\n",
    "grid_RF= RandomizedSearchCV(RandomForestClassifier1, param_distributions= hyper_rf, cv = 10, verbose = 1,scoring= 'average_precision', n_jobs = -1)\n",
    "bestrf = grid_RF.fit(X_train, y_train)\n",
    "YpredRF =grid_RF.predict(X_test)\n",
    "YpredRF_pro=grid_RF.predict_proba(X_test)\n",
    "#Printing the best hyperparameters\n",
    "print('The RF best hyper parameters are:\\n',grid_RF.best_params_)\n"
   ]
  },
  {
   "cell_type": "code",
   "execution_count": 142,
   "metadata": {},
   "outputs": [],
   "source": [
    "RF = RandomForestClassifier(n_estimators=250, min_samples_split=12, min_samples_leaf=2, max_features= 'sqrt', max_depth=45, criterion='entropy',random_state=42)"
   ]
  },
  {
   "cell_type": "code",
   "execution_count": 143,
   "metadata": {},
   "outputs": [
    {
     "data": {
      "text/plain": [
       "RandomForestClassifier(criterion='entropy', max_depth=45, max_features='sqrt',\n",
       "                       min_samples_leaf=2, min_samples_split=12,\n",
       "                       n_estimators=250, random_state=42)"
      ]
     },
     "execution_count": 143,
     "metadata": {},
     "output_type": "execute_result"
    }
   ],
   "source": [
    "RF"
   ]
  },
  {
   "cell_type": "code",
   "execution_count": 144,
   "metadata": {},
   "outputs": [],
   "source": [
    "rf12 = RandomForestClassifier(max_depth=50,min_samples_leaf=1, min_samples_split=2, n_estimators =400,criterion ='entropy',max_features ='auto',bootstrap = False,random_state=42)\n",
    "rf12.fit(X_train,y_train)\n",
    "pred_rf13 = rf12.predict(X_test)"
   ]
  },
  {
   "cell_type": "code",
   "execution_count": 188,
   "metadata": {},
   "outputs": [],
   "source": [
    "y_predRF =  rf12.predict_proba(X_test)[:, 1]"
   ]
  },
  {
   "cell_type": "markdown",
   "metadata": {},
   "source": [
    "## Stacked model"
   ]
  },
  {
   "cell_type": "code",
   "execution_count": 165,
   "metadata": {},
   "outputs": [],
   "source": [
    "estimator_list = [\n",
    "    ('MLP',MLPCa),\n",
    "    ('XGB',XGB),\n",
    "    ('rf12',rf12),\n",
    "    ('GBC',GBC),\n",
    "         ]\n",
    "metaclassifier = LogisticRegression(random_state=123)\n",
    "#Grid_GBC = RandomizedSearchCV(GradientBoostingClassifier(), param_distributions=parametersGBC,cv=10)\n",
    "LRStack = StackingClassifier(\n",
    "    estimators=estimator_list, final_estimator= metaclassifier,cv=10)\n",
    "\n"
   ]
  },
  {
   "cell_type": "code",
   "execution_count": 166,
   "metadata": {},
   "outputs": [],
   "source": [
    "# Train\n",
    "LRStack.fit(X_train, y_train)\n",
    "# Make predictions for test data\n",
    "y_test_predLR = LRStack.predict(X_test)"
   ]
  },
  {
   "cell_type": "code",
   "execution_count": 248,
   "metadata": {},
   "outputs": [],
   "source": [
    "def evaluate_preds(y_true, y_preds):\n",
    "    \"\"\"\n",
    "    Performs evaluation comparison on y_true labels vs. y_pred labels\n",
    "    on a classification.\n",
    "    \"\"\"\n",
    "    accuracy = accuracy_score(y_true, y_preds)\n",
    "    precision = precision_score(y_true, y_preds)\n",
    "    recall = recall_score(y_true, y_preds)\n",
    "    F1 = f1_score(y_true, y_preds)\n",
    "    metric_dict = {\"accuracy\": round(accuracy, 2),\n",
    "                   \"precision\": round(precision, 2),\n",
    "                   \"recall\": round(recall, 2),\n",
    "                   \"F1\": round(F1, 2)}\n",
    "    print(f\"Acc: {accuracy * 100:.2f}%\")\n",
    "    print(f\"Precision: {precision:.2f}\")\n",
    "    print(f\"Recall: {recall:.2f}\")\n",
    "    print(f\"F1 score: {F1:.2f}\")\n",
    "    \n",
    "    return metric_dict"
   ]
  },
  {
   "cell_type": "code",
   "execution_count": 251,
   "metadata": {},
   "outputs": [
    {
     "name": "stdout",
     "output_type": "stream",
     "text": [
      "Acc: 84.43%\n",
      "Precision: 0.80\n",
      "Recall: 0.73\n",
      "F1 score: 0.76\n"
     ]
    }
   ],
   "source": [
    "XGB_metrics = evaluate_preds(y_test, YpredXGB)\n",
    "\n"
   ]
  },
  {
   "cell_type": "code",
   "execution_count": 252,
   "metadata": {},
   "outputs": [
    {
     "name": "stdout",
     "output_type": "stream",
     "text": [
      "Acc: 90.57%\n",
      "Precision: 0.87\n",
      "Recall: 0.85\n",
      "F1 score: 0.86\n"
     ]
    }
   ],
   "source": [
    "GRB_metrics = evaluate_preds(y_test, YpredGBC)\n"
   ]
  },
  {
   "cell_type": "code",
   "execution_count": 253,
   "metadata": {
    "scrolled": false
   },
   "outputs": [
    {
     "name": "stdout",
     "output_type": "stream",
     "text": [
      "Acc: 90.44%\n",
      "Precision: 0.87\n",
      "Recall: 0.84\n",
      "F1 score: 0.86\n"
     ]
    }
   ],
   "source": [
    "RF1_metrics = evaluate_preds(y_test, pred_rf13)"
   ]
  },
  {
   "cell_type": "code",
   "execution_count": 254,
   "metadata": {},
   "outputs": [
    {
     "name": "stdout",
     "output_type": "stream",
     "text": [
      "Acc: 91.03%\n",
      "Precision: 0.88\n",
      "Recall: 0.85\n",
      "F1 score: 0.87\n"
     ]
    }
   ],
   "source": [
    "StackGBC_finalestimator_metrics = evaluate_preds(y_test, y_test_predLR)"
   ]
  },
  {
   "cell_type": "code",
   "execution_count": 261,
   "metadata": {},
   "outputs": [
    {
     "data": {
      "text/plain": [
       "([<matplotlib.axis.YTick at 0x2f114171288>,\n",
       "  <matplotlib.axis.YTick at 0x2f1733a2688>,\n",
       "  <matplotlib.axis.YTick at 0x2f173362488>,\n",
       "  <matplotlib.axis.YTick at 0x2f1248b0208>,\n",
       "  <matplotlib.axis.YTick at 0x2f177960548>,\n",
       "  <matplotlib.axis.YTick at 0x2f172ba8a48>,\n",
       "  <matplotlib.axis.YTick at 0x2f1745dba88>,\n",
       "  <matplotlib.axis.YTick at 0x2f1740bb688>,\n",
       "  <matplotlib.axis.YTick at 0x2f17309a288>,\n",
       "  <matplotlib.axis.YTick at 0x2f1740bb5c8>,\n",
       "  <matplotlib.axis.YTick at 0x2f1779519c8>],\n",
       " [Text(0, 0, ''),\n",
       "  Text(0, 0, ''),\n",
       "  Text(0, 0, ''),\n",
       "  Text(0, 0, ''),\n",
       "  Text(0, 0, ''),\n",
       "  Text(0, 0, ''),\n",
       "  Text(0, 0, ''),\n",
       "  Text(0, 0, ''),\n",
       "  Text(0, 0, ''),\n",
       "  Text(0, 0, ''),\n",
       "  Text(0, 0, '')])"
      ]
     },
     "execution_count": 261,
     "metadata": {},
     "output_type": "execute_result"
    },
    {
     "data": {
      "image/png": "[encoded data removed]",
      "text/plain": [
       "<Figure size 1080x720 with 1 Axes>"
      ]
     },
     "metadata": {
      "needs_background": "light"
     },
     "output_type": "display_data"
    }
   ],
   "source": [
    "compare_metrics = pd.DataFrame({\"MLP\": Mlp_metrics,\n",
    "                                \"XGB\": XGB_metrics,\n",
    "                                \"GRB\": GRB_metrics,\n",
    "                                \"RF\": RF1_metrics,\n",
    "                                \"Stack_LG\": StackGBC_finalestimator_metrics\n",
    "                               })\n",
    "\n",
    "compare_metrics.plot.bar(figsize=(15, 10));\n",
    "plt.legend(ncol=3)\n",
    "plt.yticks(np.arange(0, 1.1, step=0.1))"
   ]
  },
  {
   "cell_type": "code",
   "execution_count": 176,
   "metadata": {},
   "outputs": [
    {
     "data": {
      "text/html": [
       "<div>\n",
       "<style scoped>\n",
       "    .dataframe tbody tr th:only-of-type {\n",
       "        vertical-align: middle;\n",
       "    }\n",
       "\n",
       "    .dataframe tbody tr th {\n",
       "        vertical-align: top;\n",
       "    }\n",
       "\n",
       "    .dataframe thead th {\n",
       "        text-align: right;\n",
       "    }\n",
       "</style>\n",
       "<table border=\"1\" class=\"dataframe\">\n",
       "  <thead>\n",
       "    <tr style=\"text-align: right;\">\n",
       "      <th></th>\n",
       "      <th>MLP</th>\n",
       "      <th>XGB</th>\n",
       "      <th>GRB</th>\n",
       "      <th>RF</th>\n",
       "      <th>Stack_LG</th>\n",
       "    </tr>\n",
       "  </thead>\n",
       "  <tbody>\n",
       "    <tr>\n",
       "      <th>accuracy</th>\n",
       "      <td>0.88</td>\n",
       "      <td>0.84</td>\n",
       "      <td>0.91</td>\n",
       "      <td>0.90</td>\n",
       "      <td>0.91</td>\n",
       "    </tr>\n",
       "    <tr>\n",
       "      <th>precision</th>\n",
       "      <td>0.82</td>\n",
       "      <td>0.80</td>\n",
       "      <td>0.87</td>\n",
       "      <td>0.87</td>\n",
       "      <td>0.88</td>\n",
       "    </tr>\n",
       "    <tr>\n",
       "      <th>recall</th>\n",
       "      <td>0.82</td>\n",
       "      <td>0.73</td>\n",
       "      <td>0.85</td>\n",
       "      <td>0.84</td>\n",
       "      <td>0.85</td>\n",
       "    </tr>\n",
       "    <tr>\n",
       "      <th>f1</th>\n",
       "      <td>0.82</td>\n",
       "      <td>0.76</td>\n",
       "      <td>0.86</td>\n",
       "      <td>0.86</td>\n",
       "      <td>0.87</td>\n",
       "    </tr>\n",
       "  </tbody>\n",
       "</table>\n",
       "</div>"
      ],
      "text/plain": [
       "            MLP   XGB   GRB    RF  Stack_LG\n",
       "accuracy   0.88  0.84  0.91  0.90      0.91\n",
       "precision  0.82  0.80  0.87  0.87      0.88\n",
       "recall     0.82  0.73  0.85  0.84      0.85\n",
       "f1         0.82  0.76  0.86  0.86      0.87"
      ]
     },
     "execution_count": 176,
     "metadata": {},
     "output_type": "execute_result"
    }
   ],
   "source": [
    "compare_metrics"
   ]
  },
  {
   "cell_type": "code",
   "execution_count": 183,
   "metadata": {},
   "outputs": [],
   "source": [
    "y_predxgb = XGB_grid.predict_proba(X_test)[:, 1]"
   ]
  },
  {
   "cell_type": "code",
   "execution_count": 184,
   "metadata": {},
   "outputs": [
    {
     "data": {
      "text/plain": [
       "array([5.36408799e-04, 4.07102138e-01, 1.98928148e-01, ...,\n",
       "       7.19027638e-01, 1.19074444e-04, 2.70865089e-03], dtype=float32)"
      ]
     },
     "execution_count": 184,
     "metadata": {},
     "output_type": "execute_result"
    }
   ],
   "source": [
    "y_predxgb"
   ]
  },
  {
   "cell_type": "code",
   "execution_count": 187,
   "metadata": {},
   "outputs": [],
   "source": [
    "y_pred = LRStack.predict_proba(X_test)[:, 1]"
   ]
  },
  {
   "cell_type": "code",
   "execution_count": 262,
   "metadata": {},
   "outputs": [
    {
     "data": {
      "text/plain": [
       "<matplotlib.legend.Legend at 0x2f1749c62c8>"
      ]
     },
     "execution_count": 262,
     "metadata": {},
     "output_type": "execute_result"
    },
    {
     "data": {
      "image/png": "[encoded data removed]",
      "text/plain": [
       "<Figure size 720x576 with 1 Axes>"
      ]
     },
     "metadata": {
      "needs_background": "light"
     },
     "output_type": "display_data"
    }
   ],
   "source": [
    "## https://machinelearningmastery.com/roc-curves-and-precision-recall-curves-for-classification-in-python/\n",
    "#from sklearn.metrics import RocCurveDisplay\n",
    "from sklearn import metrics\n",
    "#set up plotting area\n",
    "plt.figure(0,figsize=(10, 8)).clf()\n",
    "# plot ROC curve for MLP\n",
    "y_pred = MLPCa.predict_proba(X_test)[:, 1]\n",
    "fpr, tpr, _ = metrics.roc_curve(y_test, y_pred)\n",
    "auc = round(metrics.roc_auc_score(y_test, y_pred), 4)\n",
    "plt.plot(fpr,tpr,label=\"Multilayer perceptron, AUC=\"+str(auc))\n",
    "# plot ROC curve for XGB\n",
    "#y_pred = XGB_grid.predict_proba(X_test)[:, 1]\n",
    "fpr, tpr, _ = metrics.roc_curve(y_test, y_predxgb)\n",
    "auc = round(metrics.roc_auc_score(y_test, y_pred), 4)\n",
    "plt.plot(fpr,tpr,label=\"XGBoost, AUC=\"+str(auc))\n",
    "#fit gradient boosted model and plot ROC curve\n",
    "y_pred = rf12.predict_proba(X_test)[:, 1]\n",
    "fpr, tpr, _ = metrics.roc_curve(y_test, y_pred)\n",
    "auc = round(metrics.roc_auc_score(y_test, y_pred), 4)\n",
    "plt.plot(fpr,tpr,label=\"Randomforest, AUC=\"+str(auc))\n",
    "y_pred = Grid_GBC.predict_proba(X_test)[:, 1]       ## keep probabilities for the positive outcome only\n",
    "fpr, tpr, _ = metrics.roc_curve(y_test, y_pred)\n",
    "auc = round(metrics.roc_auc_score(y_test, y_pred), 4)\n",
    "plt.plot(fpr,tpr,label=\"Gradient Boosting, AUC=\"+str(auc))\n",
    "#fit stackML model (LR as final estimator) and plot ROC curve\n",
    "y_pred = LRStack.predict_proba(X_test)[:, 1]\n",
    "fpr, tpr, _ = metrics.roc_curve(y_test, y_pred)\n",
    "auc = round(metrics.roc_auc_score(y_test, y_pred), 4)\n",
    "plt.plot(fpr,tpr,label=\"StackML(LR_final_estimator), AUC=\"+str(auc))\n",
    "#fit stackML model (LR as final estimator) and plot ROC curve\n",
    "plt.plot([0,1],[0,1], color='blue',linestyle='--')\n",
    "# Title\n",
    "plt.title('ROC Plot')\n",
    "# Axis labels\n",
    "plt.xlabel('False Positive Rate')\n",
    "plt.ylabel('True Positive Rate')\n",
    "#add legend\n",
    "plt.legend(fontsize=8)"
   ]
  },
  {
   "cell_type": "code",
   "execution_count": 228,
   "metadata": {},
   "outputs": [],
   "source": [
    "import matplotlib.pyplot as plt\n",
    "from sklearn.model_selection import train_test_split\n",
    "from sklearn.metrics import confusion_matrix, ConfusionMatrixDisplay\n",
    "from sklearn.datasets import load_iris\n",
    "from sklearn.naive_bayes import GaussianNB\n",
    "from sklearn.linear_model import LogisticRegression\n",
    "from sklearn.svm import SVC\n",
    "from sklearn.neighbors import KNeighborsClassifier\n",
    "from sklearn.tree import DecisionTreeClassifier\n",
    "from sklearn.ensemble import RandomForestClassifier\n",
    "\n",
    "classifiers = {\n",
    "    \"MLP\": MLPClassifier(hidden_layer_sizes=(160,100,40),max_iter = 2000,activation = 'tanh',solver = 'adam',alpha= 0.0001,learning_rate= 'constant',random_state = 0),\n",
    "    \"RF\": RandomForestClassifier(max_depth=50,min_samples_leaf=1, min_samples_split=2, n_estimators =400,criterion ='entropy',max_features ='auto',bootstrap = False,random_state=42),\n",
    "    \"XGB\": XGBClassifier(subsample= 0.5, n_estimators=900, min_child_weight=10, max_depth=10, learning_rate= 0.3, gamma=0.0, colsample_bytree=0.9, colsample_bylevel= 0.4),\n",
    "    \"GBC\": GradientBoostingClassifier(n_estimators=710, min_samples_split=6, min_samples_leaf= 2, max_depth=86, learning_rate=0.1),\n",
    "    \"LRStack\":StackingClassifier(estimators=estimator_list, final_estimator= metaclassifier,cv=10),\n",
    "}\n",
    "\n"
   ]
  },
  {
   "cell_type": "code",
   "execution_count": 206,
   "metadata": {},
   "outputs": [],
   "source": [
    "from sklearn.metrics import confusion_matrix\n",
    "cf_matrix = dict.fromkeys(classifiers.keys())\n",
    "for key, classifier in classifiers.items(): \n",
    "    y_pred = classifier.fit(X_train, y_train).predict(X_test)\n",
    "    cf_matrix[key]=confusion_matrix(y_test, y_pred)"
   ]
  },
  {
   "cell_type": "code",
   "execution_count": 236,
   "metadata": {},
   "outputs": [
    {
     "data": {
      "image/png": "[encoded data removed]",
      "text/plain": [
       "<Figure size 864x216 with 6 Axes>"
      ]
     },
     "metadata": {
      "needs_background": "light"
     },
     "output_type": "display_data"
    }
   ],
   "source": [
    "fig, axn = plt.subplots(1,5, sharex=True, sharey=True,figsize=(12,3))\n",
    "\n",
    "for i, ax in enumerate(axn.flat):\n",
    "    k = list(cf_matrix)[i]\n",
    "    sns.heatmap(cf_matrix[k],annot=True, ax=ax,fmt='g',cmap=\"GnBu\",cbar=i==4)\n",
    "    ax.set_title(k,fontsize=12)\n",
    "    ax.set_xlabel('Predicted label')     \n",
    "    ax.yaxis.set_label_text('True label')"
   ]
  },
  {
   "cell_type": "code",
   "execution_count": null,
   "metadata": {},
   "outputs": [],
   "source": []
  }
 ],
 "metadata": {
  "kernelspec": {
   "display_name": "Python 3",
   "language": "python",
   "name": "python3"
  },
  "language_info": {
   "codemirror_mode": {
    "name": "ipython",
    "version": 3
   },
   "file_extension": ".py",
   "mimetype": "text/x-python",
   "name": "python",
   "nbconvert_exporter": "python",
   "pygments_lexer": "ipython3",
   "version": "3.7.10"
  }
 },
 "nbformat": 4,
 "nbformat_minor": 5
}
